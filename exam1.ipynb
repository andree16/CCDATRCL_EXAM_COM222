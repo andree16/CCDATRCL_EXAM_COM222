{
  "cells": [
    {
      "cell_type": "markdown",
      "metadata": {
        "id": "view-in-github",
        "colab_type": "text"
      },
      "source": [
        "<a href=\"https://colab.research.google.com/github/andree16/CCDATRCL_EXAM_COM222/blob/main/exam1.ipynb\" target=\"_parent\"><img src=\"https://colab.research.google.com/assets/colab-badge.svg\" alt=\"Open In Colab\"/></a>"
      ]
    },
    {
      "cell_type": "markdown",
      "metadata": {
        "id": "yaz2B0KGFehP"
      },
      "source": [
        "# Midterm Exam 💛💙"
      ]
    },
    {
      "cell_type": "markdown",
      "metadata": {
        "id": "_DmK1ONEFehQ"
      },
      "source": [
        "**Instructions** ❗️❗️\n",
        "\n",
        "❌ Do not remove or modify the notebook **sections**, **subsections**, **exam questions** or **any text** in this python notebook\n",
        "\n",
        "✔️ Put your answer in the designated cells below each question"
      ]
    },
    {
      "cell_type": "markdown",
      "metadata": {
        "id": "TMCAXKWCFehR"
      },
      "source": [
        "## Search"
      ]
    },
    {
      "cell_type": "code",
      "execution_count": 1,
      "metadata": {
        "id": "Fy8nEBRRFehR"
      },
      "outputs": [],
      "source": [
        "def linearSearch(my_list, number):\n",
        "\n",
        "    index = 0\n",
        "\n",
        "    for i in my_list:\n",
        "\n",
        "        if my_list[index] == number:\n",
        "            return index\n",
        "\n",
        "        index = index + 1\n",
        "\n",
        "    return -1"
      ]
    },
    {
      "cell_type": "markdown",
      "metadata": {
        "id": "AjAevpueFehS"
      },
      "source": [
        "1. Using **linear search**, write a `findLargestIncrease()` function to find the largest increase in value between two adjacent numbers in your student number `(10 points)`\n",
        "\n",
        "    **Example:**\n",
        "\n",
        "    student_number = [2,0,2,2,6,2,5,1,9,3]\n",
        "\n",
        "    **Expected Output:**\n",
        "\n",
        "    findLargestIncrease(student_number)\n",
        "\n",
        "    Output: Between 1 and 9\n",
        "\n",
        "    **Explanation:**\n",
        "\n",
        "    From this student_number, the largest increase happened from number 1 to number 9"
      ]
    },
    {
      "cell_type": "code",
      "execution_count": 7,
      "metadata": {
        "id": "JE8nEfyJFehS",
        "colab": {
          "base_uri": "https://localhost:8080/"
        },
        "outputId": "f47d80ec-4997-413e-d938-66d8dd53153c"
      },
      "outputs": [
        {
          "output_type": "stream",
          "name": "stdout",
          "text": [
            "Output: Between 0 and 2\n"
          ]
        }
      ],
      "source": [
        "def findLargestIncrease(student_number):\n",
        "    largest_increase = 0\n",
        "    start_index = 0\n",
        "    end_index = 0\n",
        "\n",
        "    for i in range(len(student_number) - 1):\n",
        "        increase = student_number[i + 1] - student_number[i]\n",
        "        if increase > largest_increase:\n",
        "            largest_increase = increase\n",
        "            start_index = i\n",
        "            end_index = i + 1\n",
        "\n",
        "    return f\"Between {student_number[start_index]} and {student_number[end_index]}\"\n",
        "\n",
        "student_number = [2, 0, 2, 0, 1, 0, 2, 4, 3, 5]\n",
        "result = findLargestIncrease(student_number)\n",
        "print(\"Output:\", result)"
      ]
    },
    {
      "cell_type": "markdown",
      "metadata": {
        "id": "nMyr1fNyFehS"
      },
      "source": [
        "2. Using **linear search**, write a `findLargestDecrease()` function to find the largest decrease in value between two adjacent numbers in your student number `(10 points)`\n",
        "\n",
        "    **Example:**\n",
        "\n",
        "    student_number = [2,0,2,2,6,2,5,1,9,3]\n",
        "\n",
        "    **Expected Output:**\n",
        "\n",
        "    findLargestDecrease(student_number)\n",
        "\n",
        "    Output: Between 9 and 3\n",
        "\n",
        "    **Explanation:**\n",
        "\n",
        "    From this student_number, the largest decrease happened from number 9 to number 3"
      ]
    },
    {
      "cell_type": "code",
      "execution_count": 58,
      "metadata": {
        "id": "bfMfQVbVFehS",
        "colab": {
          "base_uri": "https://localhost:8080/"
        },
        "outputId": "3d67bc98-5a42-46d9-cd85-bee39c516c56"
      },
      "outputs": [
        {
          "output_type": "stream",
          "name": "stdout",
          "text": [
            "Output: Between 2 and 0\n"
          ]
        }
      ],
      "source": [
        "def findLargestDecrease(student_number):\n",
        "    largest_decrease = 0\n",
        "    start_index = 0\n",
        "    end_index = 0\n",
        "\n",
        "    for x in range(len(student_number) - 1):\n",
        "        decrease = student_number[x] - student_number[x + 1]\n",
        "        if decrease > largest_decrease:\n",
        "            largest_decrease = decrease\n",
        "            start_index = x\n",
        "            end_index = x + 1\n",
        "\n",
        "    return f\"Between {student_number[start_index]} and {student_number[end_index]}\"\n",
        "\n",
        "student_number = [2, 0, 2, 0, 1, 0, 2, 4, 3, 5]\n",
        "result = findLargestDecrease(student_number)\n",
        "print(\"Output:\", result)"
      ]
    },
    {
      "cell_type": "markdown",
      "metadata": {
        "id": "NtKSQn9QFehS"
      },
      "source": [
        "## Linked List"
      ]
    },
    {
      "cell_type": "code",
      "execution_count": 9,
      "metadata": {
        "id": "0HP5zyJcFehS"
      },
      "outputs": [],
      "source": [
        "class Node:\n",
        "\n",
        "    def __init__(self, data):\n",
        "        self.data = data\n",
        "        self.next = None  # null"
      ]
    },
    {
      "cell_type": "code",
      "execution_count": 10,
      "metadata": {
        "id": "A-8Uefe7FehS"
      },
      "outputs": [],
      "source": [
        "class LinkedList:\n",
        "\n",
        "    def __init__(self):\n",
        "        self.head = None\n",
        "\n",
        "    def traverse(self, node):\n",
        "        while node:\n",
        "            print(node.data, end=\" -> \")\n",
        "            node = node.next"
      ]
    },
    {
      "cell_type": "markdown",
      "metadata": {
        "id": "uPgIJJuSFehT"
      },
      "source": [
        "**Instructions** ❗️❗️\n",
        "\n",
        "Use the pre-defined linked list class/functions to create a linked list"
      ]
    },
    {
      "cell_type": "markdown",
      "metadata": {
        "id": "WIwpW7Q2FehT"
      },
      "source": [
        "1. Create a Singly linked list named **num_list** and print all of its elements. `(5 points)`\n",
        "\n",
        "- **num_list** should contain all digits of your student number.\n",
        "\n",
        "    **Expected Output:**\n",
        "\n",
        "    print(num_list)\n",
        "\n",
        "    [2, 0, 2, 2, 1, 2, 3, 4, 5, 6]"
      ]
    },
    {
      "cell_type": "code",
      "execution_count": 18,
      "metadata": {
        "id": "Lihv0JPiFehT",
        "colab": {
          "base_uri": "https://localhost:8080/"
        },
        "outputId": "f7bae0cd-4a49-4d1f-e508-5d45a44f4a28"
      },
      "outputs": [
        {
          "output_type": "stream",
          "name": "stdout",
          "text": [
            "[2, 0, 2, 0, 1, 0, 2, 4, 3, 5]\n"
          ]
        }
      ],
      "source": [
        "class Node:\n",
        "\n",
        "    def __init__(self, data):\n",
        "        self.data = data\n",
        "        self.next = None  # null\n",
        "\n",
        "class LinkedList:\n",
        "\n",
        "    def __init__(self):\n",
        "        self.head = None\n",
        "\n",
        "    def traverse(self, node):\n",
        "        values = []\n",
        "        while node:\n",
        "            values.append(node.data)\n",
        "            node = node.next\n",
        "        return values\n",
        "\n",
        "student_number = \"2020102435\"\n",
        "num_list = LinkedList()\n",
        "\n",
        "for digit in student_number:\n",
        "    new_node = Node(int(digit))\n",
        "    if not num_list.head:\n",
        "        num_list.head = new_node\n",
        "    else:\n",
        "        current = num_list.head\n",
        "        while current.next:\n",
        "            current = current.next\n",
        "        current.next = new_node\n",
        "\n",
        "print(num_list.traverse(num_list.head))"
      ]
    },
    {
      "cell_type": "markdown",
      "metadata": {
        "id": "dqA2UYrYFehT"
      },
      "source": [
        "2. Write a `hasPrime()` function to test whether a prime number is in the last six digits of **num_list**. `(5 points)`\n",
        "\n",
        "- If a prime number is in the last six digits of **num_list**, the method should return **true**\n",
        "\n",
        "- If a prime number is not in the last six digits of **num_list**, the method should return **false**\n",
        "\n",
        "    **Expected Output:**\n",
        "\n",
        "    hasPrime(num_list)\n",
        "\n",
        "    True"
      ]
    },
    {
      "cell_type": "code",
      "execution_count": 19,
      "metadata": {
        "id": "GYwsQNz5FehT",
        "colab": {
          "base_uri": "https://localhost:8080/"
        },
        "outputId": "cb0e499b-ecee-456b-e27d-8592ead44457"
      },
      "outputs": [
        {
          "output_type": "stream",
          "name": "stdout",
          "text": [
            "True\n"
          ]
        }
      ],
      "source": [
        "class Node:\n",
        "    def __init__(self, data):\n",
        "        self.data = data\n",
        "        self.next = None\n",
        "\n",
        "class LinkedList:\n",
        "    def __init__(self):\n",
        "        self.head = None\n",
        "\n",
        "    def traverse(self, node):\n",
        "        while node:\n",
        "            print(node.data, end=\" \")\n",
        "            node = node.next\n",
        "        print(\"None\")\n",
        "\n",
        "def is_prime(n):\n",
        "    if n < 2:\n",
        "        return False\n",
        "    for i in range(2, int(n**0.5) + 1):\n",
        "        if n % i == 0:\n",
        "            return False\n",
        "    return True\n",
        "\n",
        "def hasPrime(num_list):\n",
        "    last_six_digits = []\n",
        "    current = num_list.head\n",
        "    while current:\n",
        "        last_six_digits.append(current.data)\n",
        "        current = current.next\n",
        "        if len(last_six_digits) > 6:\n",
        "            last_six_digits.pop(0)\n",
        "    return any(is_prime(digit) for digit in last_six_digits)\n",
        "\n",
        "\n",
        "student_number = \"2020102435\"\n",
        "num_list = LinkedList()\n",
        "\n",
        "for digit in student_number:\n",
        "    new_node = Node(int(digit))\n",
        "    if not num_list.head:\n",
        "        num_list.head = new_node\n",
        "    else:\n",
        "        current = num_list.head\n",
        "        while current.next:\n",
        "            current = current.next\n",
        "        current.next = new_node\n",
        "\n",
        "print(hasPrime(num_list))"
      ]
    },
    {
      "cell_type": "markdown",
      "metadata": {
        "id": "5Qb0BOiwFehT"
      },
      "source": [
        "3. Write a `removeZeroes()` function to remove all occurrences of zeroes in **num_list**. `(5 points)`\n",
        "\n",
        "- If a zero is in **num_list**, return **num_list**\n",
        "\n",
        "- If there are no zeroes in **num_list**, return **\"no zeros found\"**\n",
        "\n",
        "    **Expected Output:**\n",
        "\n",
        "    removeZeroes(num_list)\n",
        "\n",
        "    [2, 2, 1, 2, 3, 4, 5, 6]"
      ]
    },
    {
      "cell_type": "code",
      "execution_count": 28,
      "metadata": {
        "id": "k1vAHUYuFehT",
        "colab": {
          "base_uri": "https://localhost:8080/"
        },
        "outputId": "e4604a19-03ff-4f10-c33c-a48da3ce5db1"
      },
      "outputs": [
        {
          "output_type": "stream",
          "name": "stdout",
          "text": [
            "[2, 2, 1, 2, 4, 3, 5]\n"
          ]
        }
      ],
      "source": [
        "class Node:\n",
        "    def __init__(self, data):\n",
        "        self.data = data\n",
        "        self.next = None\n",
        "\n",
        "class LinkedList:\n",
        "    def __init__(self):\n",
        "        self.head = None\n",
        "\n",
        "    def traverse(self):\n",
        "        values = []\n",
        "        current = self.head\n",
        "        while current:\n",
        "            values.append(current.data)\n",
        "            current = current.next\n",
        "        return values\n",
        "\n",
        "def removeZeroes(num_list):\n",
        "    if 0 not in num_list:\n",
        "        return \"no zeros found\"\n",
        "\n",
        "    num_list = [digit for digit in num_list if digit != 0]\n",
        "    return num_list\n",
        "\n",
        "student_number = [2, 0, 2, 0, 1, 0, 2, 4, 3, 5]\n",
        "print(removeZeroes(student_number))"
      ]
    },
    {
      "cell_type": "markdown",
      "metadata": {
        "id": "SKAlpglNFehT"
      },
      "source": [
        "4. Insert a dash symbol between the 4th and 5th digit in **num_list**. `(5 points)`\n",
        "\n",
        "    **Expected Output:**\n",
        "\n",
        "    print(num_list)\n",
        "\n",
        "    [2, 0, 2, 2, \"-\", 1, 2, 3, 4, 5, 6]"
      ]
    },
    {
      "cell_type": "code",
      "execution_count": 29,
      "metadata": {
        "id": "vF7fimZ-FehT",
        "colab": {
          "base_uri": "https://localhost:8080/"
        },
        "outputId": "08158833-b90c-4dd6-abd7-945b8820bc59"
      },
      "outputs": [
        {
          "output_type": "stream",
          "name": "stdout",
          "text": [
            "[2, 0, 2, 0, '-', 1, 0, 2, 4, 3, 5]\n"
          ]
        }
      ],
      "source": [
        "class Node:\n",
        "    def __init__(self, data):\n",
        "        self.data = data\n",
        "        self.next = None\n",
        "\n",
        "class LinkedList:\n",
        "    def __init__(self):\n",
        "        self.head = None\n",
        "\n",
        "    def traverse(self):\n",
        "        values = []\n",
        "        current = self.head\n",
        "        while current:\n",
        "            values.append(current.data)\n",
        "            current = current.next\n",
        "        return values\n",
        "\n",
        "def insertDash(num_list):\n",
        "    current = num_list.head\n",
        "    count = 1\n",
        "\n",
        "    while current:\n",
        "        if count == 4 and current.next:\n",
        "            new_node = Node(\"-\")\n",
        "            new_node.next = current.next\n",
        "            current.next = new_node\n",
        "            break\n",
        "        count += 1\n",
        "        current = current.next\n",
        "\n",
        "student_number = [2, 0, 2, 0, 1, 0, 2, 4, 3, 5]\n",
        "\n",
        "\n",
        "num_list = LinkedList()\n",
        "for digit in student_number:\n",
        "    new_node = Node(digit)\n",
        "    if not num_list.head:\n",
        "        num_list.head = new_node\n",
        "    else:\n",
        "        current = num_list.head\n",
        "        while current.next:\n",
        "            current = current.next\n",
        "        current.next = new_node\n",
        "\n",
        "insertDash(num_list)\n",
        "print(num_list.traverse())"
      ]
    },
    {
      "cell_type": "markdown",
      "metadata": {
        "id": "KkC-LgdxFehT"
      },
      "source": [
        "## Stack"
      ]
    },
    {
      "cell_type": "code",
      "execution_count": 31,
      "metadata": {
        "id": "UYTqB1u_FehU"
      },
      "outputs": [],
      "source": [
        "def create_stack():\n",
        "    stack = []\n",
        "    return stack\n",
        "\n",
        "\n",
        "def print_stack(stack):\n",
        "\n",
        "    if (check_empty(stack)):\n",
        "        return \"stack is empty\"\n",
        "\n",
        "    tempStack = stack.copy()\n",
        "    tempStack.reverse()\n",
        "\n",
        "    for i in tempStack:\n",
        "        print(i)\n",
        "\n",
        "    del tempStack\n",
        "\n",
        "def check_empty(stack):\n",
        "    return len(stack) == 0\n",
        "\n",
        "def push(stack, item):\n",
        "    stack.append(item)\n",
        "    print(\"pushed item: \" + item)\n",
        "\n",
        "def pop(stack):\n",
        "    if (check_empty(stack)):\n",
        "        return \"stack is empty\"\n",
        "\n",
        "    return stack.pop()\n",
        "\n",
        "def peek(stack):\n",
        "\n",
        "    print(stack[-1])"
      ]
    },
    {
      "cell_type": "markdown",
      "metadata": {
        "id": "wLAQchs8FehU"
      },
      "source": [
        "**Instructions** ❗️❗️\n",
        "\n",
        "Use the pre-defined stack class/functions to create a stack"
      ]
    },
    {
      "cell_type": "markdown",
      "metadata": {
        "id": "37cg9BoCFehU"
      },
      "source": [
        "1. Create two (2) stacks named **name_stack** and **num_stack** `(5 points)`\n",
        "\n",
        "- **name_stack** should contain all letters of your first name.\n",
        "- **num_stack** should contain all digits of your student number.\n",
        "\n",
        "    **Expected Output:**\n",
        "\n",
        "    print(name_stack)\n",
        "\n",
        "    ['E', 'L', 'I', 'Z', 'E', 'R']\n",
        "\n",
        "    print(num_stack)\n",
        "\n",
        "    [2,0,2,2,1,2,3,4,5,6]"
      ]
    },
    {
      "cell_type": "code",
      "execution_count": 33,
      "metadata": {
        "id": "HlUIUQzQFehU",
        "colab": {
          "base_uri": "https://localhost:8080/"
        },
        "outputId": "a1858a79-4143-4a02-9e57-e6146563dcd8"
      },
      "outputs": [
        {
          "output_type": "stream",
          "name": "stdout",
          "text": [
            "['A','N','D','R','E','E']\n",
            "[2, 0, 2, 0, 1, 0, 2, 4, 3, 5]\n"
          ]
        }
      ],
      "source": [
        "def create_stack():\n",
        "    stack = []\n",
        "    return stack\n",
        "\n",
        "def print_stack(stack):\n",
        "\n",
        "    if (check_empty(stack)):\n",
        "            return \"stack is empty\"\n",
        "\n",
        "    for i in stack:\n",
        "        print(i)\n",
        "\n",
        "def check_empty(stack):\n",
        "    return len(stack) == 0\n",
        "\n",
        "def push(stack, item):\n",
        "    stack.append(item)\n",
        "\n",
        "name_stack = create_stack()\n",
        "num_stack = create_stack()\n",
        "\n",
        "push(name_stack, \"['A','N','D','R','E','E']\")\n",
        "push(num_stack, \"[2, 0, 2, 0, 1, 0, 2, 4, 3, 5]\")\n",
        "\n",
        "print_stack(name_stack)\n",
        "\n",
        "print_stack(num_stack)"
      ]
    },
    {
      "cell_type": "markdown",
      "metadata": {
        "id": "8cySe9LXFehU"
      },
      "source": [
        "2. Create a stack named **my_stack** that follows the following format: `(5 points)`\n",
        "\n",
        "- The first element should be the **5th digit in your student number**\n",
        "- The succeeding elements should be the letters of your **first name**\n",
        "- The last element should be the **last digit of your student number**\n",
        "\n",
        "    **Expected Output:**\n",
        "\n",
        "    my_stack = [1, E, L, I, Z, E, R, 6]"
      ]
    },
    {
      "cell_type": "code",
      "execution_count": 34,
      "metadata": {
        "id": "bEnCoAhjFehU",
        "colab": {
          "base_uri": "https://localhost:8080/"
        },
        "outputId": "d047d98b-09fc-4315-e9a6-072b8e4769b2"
      },
      "outputs": [
        {
          "output_type": "stream",
          "name": "stdout",
          "text": [
            "[1, 'A', 'N', 'D', 'R', 'E', 'E', 5]\n"
          ]
        }
      ],
      "source": [
        "def create_stack():\n",
        "    stack = []\n",
        "    return stack\n",
        "\n",
        "def check_empty(stack):\n",
        "    return len(stack) == 0\n",
        "\n",
        "def push(stack, item):\n",
        "    stack.append(item)\n",
        "\n",
        "def pop(stack):\n",
        "    if check_empty(stack):\n",
        "        return \"stack is empty\"\n",
        "    return stack.pop()\n",
        "\n",
        "def create_my_stack():\n",
        "    student_number = \"2020102435\"\n",
        "    first_name = \"ANDREE\"\n",
        "\n",
        "    my_stack = create_stack()\n",
        "\n",
        "    push(my_stack, int(student_number[4]))\n",
        "\n",
        "    for letter in first_name:\n",
        "        push(my_stack, letter)\n",
        "\n",
        "    push(my_stack, int(student_number[-1]))\n",
        "\n",
        "    return my_stack\n",
        "\n",
        "print(create_my_stack())"
      ]
    },
    {
      "cell_type": "markdown",
      "metadata": {
        "id": "8a8_KP5nFehU"
      },
      "source": [
        "3. Write a `verifyStack()` function that will take in `my_stack` and check if its format has been followed `(10 points)`\n",
        "\n",
        "- Return **True** if the format has been followed\n",
        "- Return **False** if the format was not followed\n",
        "- Verify the format by checking the contents of **my_stack** with **name_stack** and **num_stack**\n",
        "\n",
        "    **Expected Output:**\n",
        "\n",
        "    my_stack = [1, E, L, I, Z, E, R, 6]\n",
        "\n",
        "    verifyStack(my_stack)\n",
        "\n",
        "    True\n",
        "\n",
        "    my_stack = [1, S, L, I, Z, E, R, 7]\n",
        "\n",
        "    verifyStack(my_stack)\n",
        "\n",
        "    False"
      ]
    },
    {
      "cell_type": "code",
      "execution_count": 59,
      "metadata": {
        "id": "RdANSxD0FehU",
        "colab": {
          "base_uri": "https://localhost:8080/"
        },
        "outputId": "d22a424e-5603-4aa3-edf1-c91ad6825138"
      },
      "outputs": [
        {
          "output_type": "stream",
          "name": "stdout",
          "text": [
            "my_stack1 = [1, 'A', 'N', 'D', 'R', 'E', 'E', 5]\n",
            "verifyStack(my_stack1) = True\n",
            "\n",
            "my_stack2 = [1, 'E', 'E', 'N', 'D', 'R', 'A', 7]\n",
            "verifyStack(my_stack2) = False\n"
          ]
        }
      ],
      "source": [
        "def create_stack():\n",
        "    stack = []\n",
        "    return stack\n",
        "\n",
        "def print_stack(stack):\n",
        "    if (check_empty(stack)):\n",
        "        return \"stack is empty\"\n",
        "\n",
        "    tempStack = stack.copy()\n",
        "    tempStack.reverse()\n",
        "\n",
        "    for i in tempStack:\n",
        "        print(i)\n",
        "\n",
        "    del tempStack\n",
        "\n",
        "def check_empty(stack):\n",
        "    return len(stack) == 0\n",
        "\n",
        "def push(stack, item):\n",
        "    stack.append(item)\n",
        "    print(\"pushed item: \" + str(item))\n",
        "\n",
        "def pop(stack):\n",
        "    if (check_empty(stack)):\n",
        "        return \"stack is empty\"\n",
        "\n",
        "    return stack.pop()\n",
        "\n",
        "def peek(stack):\n",
        "    print(stack[-1])\n",
        "\n",
        "def verifyStack(my_stack):\n",
        "    first_name = \"ANDREE\"\n",
        "    student_number = \"2020102435\"\n",
        "\n",
        "    name_stack = list(first_name)\n",
        "    num_stack = [int(digit) for digit in student_number]\n",
        "\n",
        "    if my_stack == [num_stack[4]] + name_stack + [num_stack[-1]]:\n",
        "        return True\n",
        "    else:\n",
        "        return False\n",
        "\n",
        "my_stack1 = [1, 'A', 'N', 'D', 'R', 'E', 'E', 5]\n",
        "my_stack2 = [1, 'E', 'E', 'N', 'D', 'R', 'A', 7]\n",
        "\n",
        "print(\"my_stack1 =\", my_stack1)\n",
        "print(\"verifyStack(my_stack1) =\", verifyStack(my_stack1))\n",
        "print()\n",
        "print(\"my_stack2 =\", my_stack2)\n",
        "print(\"verifyStack(my_stack2) =\", verifyStack(my_stack2))"
      ]
    },
    {
      "cell_type": "markdown",
      "metadata": {
        "id": "UC5C64B2FehU"
      },
      "source": [
        "## Queue"
      ]
    },
    {
      "cell_type": "code",
      "execution_count": 36,
      "metadata": {
        "id": "NJJ0j0LHFehU"
      },
      "outputs": [],
      "source": [
        "class Queue:\n",
        "    def __init__(self):\n",
        "        self.queue = []\n",
        "\n",
        "    def enqueue(self, item):\n",
        "        self.queue.append(item)\n",
        "\n",
        "    def dequeue(self):\n",
        "        if len(self.queue) < 1:\n",
        "            return None\n",
        "        return self.queue.pop(0)\n",
        "\n",
        "    def display(self):\n",
        "        print(self.queue)\n",
        "\n",
        "    def size(self):\n",
        "        return len(self.queue)\n",
        "\n",
        "    def peek(self):\n",
        "        return self.queue[0]"
      ]
    },
    {
      "cell_type": "markdown",
      "metadata": {
        "id": "80OekpbeFehV"
      },
      "source": [
        "**Instructions** ❗️❗️\n",
        "\n",
        "Use the pre-defined queue class/functions to create a Queue"
      ]
    },
    {
      "cell_type": "markdown",
      "metadata": {
        "id": "_Hf0OP5cFehV"
      },
      "source": [
        "1. Create a simple queue named **num_queue** `(5 points)`\n",
        "\n",
        "- **num_queue** should contain all digits of your student number.\n",
        "\n",
        "    **Expected Output:**\n",
        "\n",
        "    print(num_queue)\n",
        "\n",
        "    [2,0,2,2,1,2,3,4,5,6]"
      ]
    },
    {
      "cell_type": "code",
      "execution_count": 37,
      "metadata": {
        "id": "_mgmE4ArFehV",
        "colab": {
          "base_uri": "https://localhost:8080/"
        },
        "outputId": "26040a32-c2c7-403b-aad7-7c7f142b4d2f"
      },
      "outputs": [
        {
          "output_type": "stream",
          "name": "stdout",
          "text": [
            "[2, 0, 2, 0, 1, 0, 2, 4, 3, 5]\n"
          ]
        }
      ],
      "source": [
        "class Queue:\n",
        "    def __init__(self):\n",
        "        self.queue = []\n",
        "\n",
        "    def enqueue(self, item):\n",
        "        self.queue.append(item)\n",
        "\n",
        "    def display(self):\n",
        "        print(self.queue)\n",
        "\n",
        "\n",
        "num_queue = Queue()\n",
        "num_queue.enqueue(2)\n",
        "num_queue.enqueue(0)\n",
        "num_queue.enqueue(2)\n",
        "num_queue.enqueue(0)\n",
        "num_queue.enqueue(1)\n",
        "num_queue.enqueue(0)\n",
        "num_queue.enqueue(2)\n",
        "num_queue.enqueue(4)\n",
        "num_queue.enqueue(3)\n",
        "num_queue.enqueue(5)\n",
        "\n",
        "num_queue.display()"
      ]
    },
    {
      "cell_type": "markdown",
      "metadata": {
        "id": "1pHG8t6DFehV"
      },
      "source": [
        "2. Write a `getMax()` or `getMin()` function for **num_queue** `(5 points)`\n",
        "\n",
        "- If your student number ends with an odd number, create a `getMax()` function that will return the largest number in **num_queue**\n",
        "- If your student number ends with an even number, create a `getMin()` function that will return the lowest number in **num_queue**\n",
        "\n",
        "    **Expected Output for getMax():**\n",
        "\n",
        "    getMax(num_queue)\n",
        "\n",
        "    6\n",
        "\n",
        "    **Expected Output for getMin():**\n",
        "\n",
        "    getMin(num_queue)\n",
        "\n",
        "    0"
      ]
    },
    {
      "cell_type": "code",
      "execution_count": 47,
      "metadata": {
        "id": "itj2U610FehV",
        "colab": {
          "base_uri": "https://localhost:8080/"
        },
        "outputId": "4dc2ac22-b0f9-440f-8878-cef389771a16"
      },
      "outputs": [
        {
          "output_type": "stream",
          "name": "stdout",
          "text": [
            "getMax(num_queue) = 8\n"
          ]
        }
      ],
      "source": [
        "class Queue:\n",
        "    def __init__(self):\n",
        "        self.queue = []\n",
        "\n",
        "    def enqueue(self, item):\n",
        "        self.queue.append(item)\n",
        "\n",
        "    def display(self):\n",
        "        print(self.queue)\n",
        "\n",
        "student_number = \"2020102435\"\n",
        "[num_queue.enqueue(int(digit)) for digit in student_number]\n",
        "\n",
        "def getMax(num_queue):\n",
        "    return max(num_queue.queue)\n",
        "\n",
        "def getMin(num_queue):\n",
        "    return min(num_queue.queue)\n",
        "\n",
        "last_digit = int(student_number[-1])\n",
        "\n",
        "if last_digit % 2 == 1:\n",
        "    result = getMax(num_queue)\n",
        "    print(\"getMax(num_queue) =\", result)\n",
        "else:\n",
        "    result = getMin(num_queue)\n",
        "    print(\"getMin(num_queue) =\", result)"
      ]
    },
    {
      "cell_type": "markdown",
      "metadata": {
        "id": "YkgmP6GwFehV"
      },
      "source": [
        "3. Write a `getOdd()` or `getEven()` function for  **num_queue** `(5 points)`\n",
        "\n",
        "- If your student number ends with an **odd number**, create a `getOdd()` function that will return all odd numbers in **num_queue**\n",
        "- If your student number ends with an **even number**, create a `getEven()` function that will return all even numbers in **num_queue**\n",
        "\n",
        "    **Expected Output for getOdd():**\n",
        "\n",
        "    getOdd(num_queue)\n",
        "\n",
        "    [1, 3, 5]\n",
        "\n",
        "    **Expected Output for getEven():**\n",
        "\n",
        "    getEven(num_queue)\n",
        "\n",
        "    [0, 2, 4, 6]"
      ]
    },
    {
      "cell_type": "code",
      "execution_count": 50,
      "metadata": {
        "id": "2Bc7E1zNFehV",
        "colab": {
          "base_uri": "https://localhost:8080/"
        },
        "outputId": "c07553c7-f8a2-4973-bdc7-9f521a524b9b"
      },
      "outputs": [
        {
          "output_type": "stream",
          "name": "stdout",
          "text": [
            "getOdd(num_queue) = [1, 3, 5]\n"
          ]
        }
      ],
      "source": [
        "class Queue:\n",
        "    def __init__(self):\n",
        "        self.queue = []\n",
        "\n",
        "    def enqueue(self, item):\n",
        "        self.queue.append(item)\n",
        "\n",
        "    def dequeue(self):\n",
        "        return self.queue.pop(0) if self.size() > 0 else None\n",
        "\n",
        "    def size(self):\n",
        "        return len(self.queue)\n",
        "\n",
        "    def peek(self):\n",
        "        return self.queue[0] if self.size() > 0 else None\n",
        "\n",
        "def getOdd(num_queue):\n",
        "    return [x for x in num_queue.queue if x % 2 == 1]\n",
        "\n",
        "def getEven(num_queue):\n",
        "    return [x for x in num_queue.queue if x % 2 == 0]\n",
        "\n",
        "num_queue = Queue()\n",
        "student_number = \"2020102435\"\n",
        "\n",
        "for digit in student_number:\n",
        "    num_queue.enqueue(int(digit))\n",
        "\n",
        "last_digit = int(student_number[-1])\n",
        "\n",
        "if last_digit % 2 == 1:\n",
        "    result = getOdd(num_queue)\n",
        "    print(\"getOdd(num_queue) =\", result)\n",
        "else:\n",
        "    result = getEven(num_queue)\n",
        "    print(\"getEven(num_queue) =\", result)"
      ]
    },
    {
      "cell_type": "markdown",
      "metadata": {
        "id": "kuzWF5g4FehV"
      },
      "source": [
        "4. Write a `removeDup()` function that will remove all duplicates in **num_queue** `(5 points)`\n",
        "\n",
        "    **Expected Output:**\n",
        "\n",
        "    removeDup(num_queue)\n",
        "\n",
        "    [2,0,1,3,4,5,6]"
      ]
    },
    {
      "cell_type": "code",
      "execution_count": 64,
      "metadata": {
        "id": "I8LeQP8MFehY",
        "colab": {
          "base_uri": "https://localhost:8080/"
        },
        "outputId": "74bfd786-eb3a-471b-b2a1-99e378f2d2ad"
      },
      "outputs": [
        {
          "output_type": "stream",
          "name": "stdout",
          "text": [
            "DUPES REMOVED\n",
            "[2, 0, 1, 4, 3, 5]\n"
          ]
        }
      ],
      "source": [
        "class Queue:\n",
        "    def __init__(self):\n",
        "        self.queue = []\n",
        "\n",
        "    def enqueue(self, item):\n",
        "        self.queue.append(item)\n",
        "\n",
        "    def dequeue(self):\n",
        "        if len(self.queue) < 1:\n",
        "            return None\n",
        "        return self.queue.pop(0)\n",
        "\n",
        "    def display(self):\n",
        "        print(self.queue)\n",
        "\n",
        "    def size(self):\n",
        "        return len(self.queue)\n",
        "\n",
        "def removeDup(num_queue):\n",
        "    unique_numbers = []\n",
        "    while num_queue.size() > 0:\n",
        "        num = num_queue.dequeue()\n",
        "        if num not in unique_numbers:\n",
        "            unique_numbers.append(num)\n",
        "\n",
        "    for num in unique_numbers:\n",
        "        num_queue.enqueue(num)\n",
        "\n",
        "student_number = \"2020102435\"\n",
        "num_queue = Queue()\n",
        "[num_queue.enqueue(int(digit)) for digit in student_number]\n",
        "\n",
        "removeDup(num_queue)\n",
        "print(\"DUPES REMOVED\")\n",
        "print(num_queue.queue)"
      ]
    },
    {
      "cell_type": "markdown",
      "metadata": {
        "id": "LVfZTh8YFehZ"
      },
      "source": [
        "## Sort"
      ]
    },
    {
      "cell_type": "markdown",
      "metadata": {
        "id": "bm9lonfzFehZ"
      },
      "source": [
        "**Instructions** ❗️❗️\n",
        "\n",
        "Use the any sorting algoritms"
      ]
    },
    {
      "cell_type": "markdown",
      "metadata": {
        "id": "EJTlxhEdFehZ"
      },
      "source": [
        "1. Using any sorting algorithm, sort the **last 6 digits** of your student number in ascending order `(5 points)`\n",
        "\n",
        "    **Example:**\n",
        "\n",
        "    student_number = [2,0,2,2,6,2,5,1,3,4]\n",
        "\n",
        "    **Expected Output:**\n",
        "\n",
        "    print(student_number)\n",
        "\n",
        "    [2,0,2,2,1,2,3,4,5,6]\n"
      ]
    },
    {
      "cell_type": "code",
      "execution_count": 54,
      "metadata": {
        "id": "MkZKfveOFehZ",
        "colab": {
          "base_uri": "https://localhost:8080/"
        },
        "outputId": "b2ff8069-ad7c-423b-d66b-df72a9e42ea2"
      },
      "outputs": [
        {
          "output_type": "stream",
          "name": "stdout",
          "text": [
            "Student number: [2, 0, 2, 0, 1, 0, 2, 4, 3, 5]\n",
            "[2, 0, 2, 0, 0, 1, 2, 3, 4, 5]\n"
          ]
        }
      ],
      "source": [
        "def bubble_sort(arr):\n",
        "    n = len(arr)\n",
        "\n",
        "    for i in range(n):\n",
        "        for x in range(0, n-i-1):\n",
        "            if arr[x] > arr[x+1]:\n",
        "                arr[x], arr[x+1] = arr[x+1], arr[x]\n",
        "\n",
        "student_number = [2, 0, 2, 0, 1, 0, 2, 4, 3, 5]\n",
        "last_six_digits = student_number[-6:]\n",
        "\n",
        "print(\"Student number:\", student_number)\n",
        "\n",
        "bubble_sort(last_six_digits)\n",
        "\n",
        "student_number[-6:] = last_six_digits\n",
        "\n",
        "print(student_number)"
      ]
    },
    {
      "cell_type": "markdown",
      "metadata": {
        "id": "sC2JZRZMFehZ"
      },
      "source": [
        "2. Using your student_number, separately sort the even numbers in **increasing order** and the odd numbers in **decreasing order** `(15 points)`\n",
        "\n",
        "    **Example:**\n",
        "\n",
        "    student_number = [2,0,2,2,1,2,3,4,5,6]\n",
        "\n",
        "    **Expected Output:**\n",
        "\n",
        "    print(student_number)\n",
        "\n",
        "    [0,2,2,2,2,4,6,5,3,1]"
      ]
    },
    {
      "cell_type": "code",
      "execution_count": 57,
      "metadata": {
        "id": "hWOh_ohcFehZ",
        "colab": {
          "base_uri": "https://localhost:8080/"
        },
        "outputId": "67d6cbdd-c7ad-460f-d58c-83cdbf036a58"
      },
      "outputs": [
        {
          "output_type": "stream",
          "name": "stdout",
          "text": [
            "[0, 0, 0, 2, 2, 2, 4, 5, 3, 1]\n"
          ]
        }
      ],
      "source": [
        "student_number = [2, 0, 2, 0, 1, 0, 2, 4, 3, 5]\n",
        "\n",
        "sorted_even_numbers = sorted([num for num in student_number if num % 2 == 0])\n",
        "sorted_odd_numbers = sorted([num for num in student_number if num % 2 == 1], reverse=True)\n",
        "sorted_student_number = sorted_even_numbers + sorted_odd_numbers\n",
        "\n",
        "print(sorted_student_number)"
      ]
    }
  ],
  "metadata": {
    "kernelspec": {
      "display_name": "Python 3",
      "language": "python",
      "name": "python3"
    },
    "language_info": {
      "codemirror_mode": {
        "name": "ipython",
        "version": 3
      },
      "file_extension": ".py",
      "mimetype": "text/x-python",
      "name": "python",
      "nbconvert_exporter": "python",
      "pygments_lexer": "ipython3",
      "version": "3.9.13"
    },
    "orig_nbformat": 4,
    "colab": {
      "provenance": [],
      "include_colab_link": true
    }
  },
  "nbformat": 4,
  "nbformat_minor": 0
}